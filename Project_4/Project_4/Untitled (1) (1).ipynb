{
 "cells": [
  {
   "cell_type": "code",
   "execution_count": null,
   "id": "297a4b99",
   "metadata": {},
   "outputs": [],
   "source": [
    "r=int(input(\"enter radius of circle\"))\n",
    "area=3.14*r*r\n",
    "print(f\"area of circle is {area} meter square\")\n",
    "l=int(input(\"enter length of rectangle\"))\n",
    "b=int(input(\"enter breadth of rectangle\"))\n",
    "area=l*b\n",
    "print(f\"area of rectangle is {area} meter square\")\n",
    "base=int(input(\"enter base of triangle\"))\n",
    "h=int(input(\"enter height of triangle\"))\n",
    "area=(h*base)/2\n",
    "print(f\"area of triangle is {area} meter square \")"
   ]
  },
  {
   "cell_type": "code",
   "execution_count": null,
   "id": "46db45c5",
   "metadata": {},
   "outputs": [],
   "source": [
    "r=int(input(\"enter radius of circle\"))\n",
    "area=3.14*r*r\n",
    "print(f\"area of circle is {area} meter square\")\n",
    "l=int(input(\"enter length of rectangle\"))\n",
    "b=int(input(\"enter breadth of rectangle\"))\n",
    "area=l*b\n",
    "print(f\"area of rectangle is {area} meter square\")\n",
    "base=int(input(\"enter base of triangle\"))\n",
    "h=int(input(\"enter height of triangle\"))\n",
    "area=(h*base)/2\n",
    "print(f\"area of triangle is {area} meter square \")"
   ]
  },
  {
   "cell_type": "code",
   "execution_count": null,
   "id": "af56cf16",
   "metadata": {},
   "outputs": [],
   "source": [
    "r=int(input(\"enter radius of circle\"))\n",
    "area=3.14*r*r\n",
    "print(f\"area of circle is {area} meter square\")\n",
    "l=int(input(\"enter length of rectangle\"))\n",
    "b=int(input(\"enter breadth of rectangle\"))\n",
    "area=l*b\n",
    "print(f\"area of rectangle is {area} meter square\")\n",
    "base=int(input(\"enter base of triangle\"))\n",
    "h=int(input(\"enter height of triangle\"))\n",
    "area=(h*base)/2\n",
    "print(f\"area of triangle is {area} meter square \")"
   ]
  },
  {
   "cell_type": "code",
   "execution_count": null,
   "id": "63449df3",
   "metadata": {},
   "outputs": [],
   "source": [
    "has_high_income=true\n",
    "has_good_credit=true\n",
    "if has_high_income and has_good_credit:\n",
    "print(\"eligible for loan\")"
   ]
  },
  {
   "cell_type": "code",
   "execution_count": null,
   "id": "abea2096",
   "metadata": {},
   "outputs": [],
   "source": [
    "has_high_income=true\n",
    "has_good_credit=true\n",
    "if has_high_income and has_good_credit:\n",
    "    print(\"eligible for loan\")"
   ]
  },
  {
   "cell_type": "code",
   "execution_count": null,
   "id": "8c71fb31",
   "metadata": {},
   "outputs": [],
   "source": []
  },
  {
   "cell_type": "code",
   "execution_count": null,
   "id": "e8051876",
   "metadata": {},
   "outputs": [],
   "source": [
    "\"\"\"this is a comment\n",
    "written in\n",
    "more than just one line\"\"\"\n",
    "print('hellow')"
   ]
  },
  {
   "cell_type": "code",
   "execution_count": null,
   "id": "c503ae0f",
   "metadata": {},
   "outputs": [],
   "source": [
    "\"\"\"this is a comment\n",
    "written in\n",
    "more than just one line\"\"\"\n",
    "print('hellow')"
   ]
  },
  {
   "cell_type": "code",
   "execution_count": null,
   "id": "cb46c9fc",
   "metadata": {},
   "outputs": [],
   "source": []
  },
  {
   "cell_type": "code",
   "execution_count": null,
   "id": "6cf7864f",
   "metadata": {},
   "outputs": [],
   "source": []
  },
  {
   "cell_type": "code",
   "execution_count": null,
   "id": "62938905",
   "metadata": {},
   "outputs": [],
   "source": []
  },
  {
   "cell_type": "code",
   "execution_count": null,
   "id": "cfe21444",
   "metadata": {},
   "outputs": [],
   "source": []
  },
  {
   "cell_type": "code",
   "execution_count": null,
   "id": "9d3a8e10",
   "metadata": {},
   "outputs": [],
   "source": []
  }
 ],
 "metadata": {
  "kernelspec": {
   "display_name": "Python 3 (ipykernel)",
   "language": "python",
   "name": "python3"
  },
  "language_info": {
   "codemirror_mode": {
    "name": "ipython",
    "version": 3
   },
   "file_extension": ".py",
   "mimetype": "text/x-python",
   "name": "python",
   "nbconvert_exporter": "python",
   "pygments_lexer": "ipython3",
   "version": "3.9.7"
  }
 },
 "nbformat": 4,
 "nbformat_minor": 5
}
